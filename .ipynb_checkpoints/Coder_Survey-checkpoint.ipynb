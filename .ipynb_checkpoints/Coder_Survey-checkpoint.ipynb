{
 "cells": [
  {
   "cell_type": "markdown",
   "metadata": {},
   "source": [
    "## Introduction\n",
    "\n",
    "This started as guided project for the intermidiate statistics course in Dataquest. The exercise gives student an imaginary challenge: as workers of an e-learning company providing training for web and mobile developers find the best market to advertise in. Other assumptions includes: the company will charge $59 for the course, and the data will come from freeCodeCamp's new coder survey. The publicly available data can be found in [this GitHub repository](https://github.com/freeCodeCamp/2017-new-coder-survey).\n",
    "\n",
    "This project showcases my ability to load, manipulate, clean, and combine data using Pandas; create basic charts using Matplotlib; and calculate summary statistics. "
   ]
  },
  {
   "cell_type": "code",
   "execution_count": 1,
   "metadata": {},
   "outputs": [],
   "source": [
    "# import pandas, numpy, and matplotlib\n",
    "import pandas as pd\n",
    "import numpy as np\n",
    "import matplotlib.pyplot as plt\n",
    "import seaborn as sns\n",
    "from IPython.display import display, HTML\n",
    "\n",
    "sns.set_style(\"white\")\n",
    "%matplotlib inline"
   ]
  },
  {
   "cell_type": "code",
   "execution_count": 2,
   "metadata": {},
   "outputs": [
    {
     "name": "stderr",
     "output_type": "stream",
     "text": [
      "/anaconda3/lib/python3.6/site-packages/IPython/core/interactiveshell.py:2785: DtypeWarning: Columns (17,62) have mixed types. Specify dtype option on import or set low_memory=False.\n",
      "  interactivity=interactivity, compiler=compiler, result=result)\n"
     ]
    },
    {
     "data": {
      "text/html": [
       "<div>\n",
       "<style scoped>\n",
       "    .dataframe tbody tr th:only-of-type {\n",
       "        vertical-align: middle;\n",
       "    }\n",
       "\n",
       "    .dataframe tbody tr th {\n",
       "        vertical-align: top;\n",
       "    }\n",
       "\n",
       "    .dataframe thead th {\n",
       "        text-align: right;\n",
       "    }\n",
       "</style>\n",
       "<table border=\"1\" class=\"dataframe\">\n",
       "  <thead>\n",
       "    <tr style=\"text-align: right;\">\n",
       "      <th></th>\n",
       "      <th>Age</th>\n",
       "      <th>AttendedBootcamp</th>\n",
       "      <th>BootcampFinish</th>\n",
       "      <th>BootcampLoanYesNo</th>\n",
       "      <th>BootcampName</th>\n",
       "      <th>BootcampRecommend</th>\n",
       "      <th>ChildrenNumber</th>\n",
       "      <th>CityPopulation</th>\n",
       "      <th>CodeEventConferences</th>\n",
       "      <th>CodeEventDjangoGirls</th>\n",
       "      <th>...</th>\n",
       "      <th>YouTubeFCC</th>\n",
       "      <th>YouTubeFunFunFunction</th>\n",
       "      <th>YouTubeGoogleDev</th>\n",
       "      <th>YouTubeLearnCode</th>\n",
       "      <th>YouTubeLevelUpTuts</th>\n",
       "      <th>YouTubeMIT</th>\n",
       "      <th>YouTubeMozillaHacks</th>\n",
       "      <th>YouTubeOther</th>\n",
       "      <th>YouTubeSimplilearn</th>\n",
       "      <th>YouTubeTheNewBoston</th>\n",
       "    </tr>\n",
       "  </thead>\n",
       "  <tbody>\n",
       "    <tr>\n",
       "      <th>0</th>\n",
       "      <td>27.0</td>\n",
       "      <td>0.0</td>\n",
       "      <td>NaN</td>\n",
       "      <td>NaN</td>\n",
       "      <td>NaN</td>\n",
       "      <td>NaN</td>\n",
       "      <td>NaN</td>\n",
       "      <td>more than 1 million</td>\n",
       "      <td>NaN</td>\n",
       "      <td>NaN</td>\n",
       "      <td>...</td>\n",
       "      <td>NaN</td>\n",
       "      <td>NaN</td>\n",
       "      <td>NaN</td>\n",
       "      <td>NaN</td>\n",
       "      <td>NaN</td>\n",
       "      <td>NaN</td>\n",
       "      <td>NaN</td>\n",
       "      <td>NaN</td>\n",
       "      <td>NaN</td>\n",
       "      <td>NaN</td>\n",
       "    </tr>\n",
       "    <tr>\n",
       "      <th>1</th>\n",
       "      <td>34.0</td>\n",
       "      <td>0.0</td>\n",
       "      <td>NaN</td>\n",
       "      <td>NaN</td>\n",
       "      <td>NaN</td>\n",
       "      <td>NaN</td>\n",
       "      <td>NaN</td>\n",
       "      <td>less than 100,000</td>\n",
       "      <td>NaN</td>\n",
       "      <td>NaN</td>\n",
       "      <td>...</td>\n",
       "      <td>1.0</td>\n",
       "      <td>NaN</td>\n",
       "      <td>NaN</td>\n",
       "      <td>NaN</td>\n",
       "      <td>NaN</td>\n",
       "      <td>NaN</td>\n",
       "      <td>NaN</td>\n",
       "      <td>NaN</td>\n",
       "      <td>NaN</td>\n",
       "      <td>NaN</td>\n",
       "    </tr>\n",
       "    <tr>\n",
       "      <th>2</th>\n",
       "      <td>21.0</td>\n",
       "      <td>0.0</td>\n",
       "      <td>NaN</td>\n",
       "      <td>NaN</td>\n",
       "      <td>NaN</td>\n",
       "      <td>NaN</td>\n",
       "      <td>NaN</td>\n",
       "      <td>more than 1 million</td>\n",
       "      <td>NaN</td>\n",
       "      <td>NaN</td>\n",
       "      <td>...</td>\n",
       "      <td>NaN</td>\n",
       "      <td>NaN</td>\n",
       "      <td>NaN</td>\n",
       "      <td>1.0</td>\n",
       "      <td>1.0</td>\n",
       "      <td>NaN</td>\n",
       "      <td>NaN</td>\n",
       "      <td>NaN</td>\n",
       "      <td>NaN</td>\n",
       "      <td>NaN</td>\n",
       "    </tr>\n",
       "    <tr>\n",
       "      <th>3</th>\n",
       "      <td>26.0</td>\n",
       "      <td>0.0</td>\n",
       "      <td>NaN</td>\n",
       "      <td>NaN</td>\n",
       "      <td>NaN</td>\n",
       "      <td>NaN</td>\n",
       "      <td>NaN</td>\n",
       "      <td>between 100,000 and 1 million</td>\n",
       "      <td>NaN</td>\n",
       "      <td>NaN</td>\n",
       "      <td>...</td>\n",
       "      <td>1.0</td>\n",
       "      <td>1.0</td>\n",
       "      <td>NaN</td>\n",
       "      <td>NaN</td>\n",
       "      <td>1.0</td>\n",
       "      <td>NaN</td>\n",
       "      <td>NaN</td>\n",
       "      <td>NaN</td>\n",
       "      <td>NaN</td>\n",
       "      <td>NaN</td>\n",
       "    </tr>\n",
       "    <tr>\n",
       "      <th>4</th>\n",
       "      <td>20.0</td>\n",
       "      <td>0.0</td>\n",
       "      <td>NaN</td>\n",
       "      <td>NaN</td>\n",
       "      <td>NaN</td>\n",
       "      <td>NaN</td>\n",
       "      <td>NaN</td>\n",
       "      <td>between 100,000 and 1 million</td>\n",
       "      <td>NaN</td>\n",
       "      <td>NaN</td>\n",
       "      <td>...</td>\n",
       "      <td>NaN</td>\n",
       "      <td>NaN</td>\n",
       "      <td>NaN</td>\n",
       "      <td>NaN</td>\n",
       "      <td>NaN</td>\n",
       "      <td>NaN</td>\n",
       "      <td>NaN</td>\n",
       "      <td>NaN</td>\n",
       "      <td>NaN</td>\n",
       "      <td>NaN</td>\n",
       "    </tr>\n",
       "  </tbody>\n",
       "</table>\n",
       "<p>5 rows × 136 columns</p>\n",
       "</div>"
      ],
      "text/plain": [
       "    Age  AttendedBootcamp  BootcampFinish  BootcampLoanYesNo BootcampName  \\\n",
       "0  27.0               0.0             NaN                NaN          NaN   \n",
       "1  34.0               0.0             NaN                NaN          NaN   \n",
       "2  21.0               0.0             NaN                NaN          NaN   \n",
       "3  26.0               0.0             NaN                NaN          NaN   \n",
       "4  20.0               0.0             NaN                NaN          NaN   \n",
       "\n",
       "   BootcampRecommend  ChildrenNumber                 CityPopulation  \\\n",
       "0                NaN             NaN            more than 1 million   \n",
       "1                NaN             NaN              less than 100,000   \n",
       "2                NaN             NaN            more than 1 million   \n",
       "3                NaN             NaN  between 100,000 and 1 million   \n",
       "4                NaN             NaN  between 100,000 and 1 million   \n",
       "\n",
       "   CodeEventConferences  CodeEventDjangoGirls         ...           \\\n",
       "0                   NaN                   NaN         ...            \n",
       "1                   NaN                   NaN         ...            \n",
       "2                   NaN                   NaN         ...            \n",
       "3                   NaN                   NaN         ...            \n",
       "4                   NaN                   NaN         ...            \n",
       "\n",
       "   YouTubeFCC  YouTubeFunFunFunction  YouTubeGoogleDev  YouTubeLearnCode  \\\n",
       "0         NaN                    NaN               NaN               NaN   \n",
       "1         1.0                    NaN               NaN               NaN   \n",
       "2         NaN                    NaN               NaN               1.0   \n",
       "3         1.0                    1.0               NaN               NaN   \n",
       "4         NaN                    NaN               NaN               NaN   \n",
       "\n",
       "   YouTubeLevelUpTuts  YouTubeMIT  YouTubeMozillaHacks YouTubeOther  \\\n",
       "0                 NaN         NaN                  NaN          NaN   \n",
       "1                 NaN         NaN                  NaN          NaN   \n",
       "2                 1.0         NaN                  NaN          NaN   \n",
       "3                 1.0         NaN                  NaN          NaN   \n",
       "4                 NaN         NaN                  NaN          NaN   \n",
       "\n",
       "   YouTubeSimplilearn  YouTubeTheNewBoston  \n",
       "0                 NaN                  NaN  \n",
       "1                 NaN                  NaN  \n",
       "2                 NaN                  NaN  \n",
       "3                 NaN                  NaN  \n",
       "4                 NaN                  NaN  \n",
       "\n",
       "[5 rows x 136 columns]"
      ]
     },
     "execution_count": 2,
     "metadata": {},
     "output_type": "execute_result"
    }
   ],
   "source": [
    "# read the dataset into a dataframe\n",
    "data = pd.read_csv('2017-fCC-New-Coders-Survey-Data.csv')\n",
    "data.head()"
   ]
  },
  {
   "cell_type": "code",
   "execution_count": 3,
   "metadata": {},
   "outputs": [
    {
     "data": {
      "text/plain": [
       "(18175, 136)"
      ]
     },
     "execution_count": 3,
     "metadata": {},
     "output_type": "execute_result"
    }
   ],
   "source": [
    "data.shape"
   ]
  },
  {
   "cell_type": "markdown",
   "metadata": {},
   "source": [
    "## Background \n",
    "\n",
    "The survey asked 20,000 new coders encompassing information about themselves and their learning habits. The raw data provides information about country of origin, preferred learning platform, gender, attendance in live coding session, podcasts subscription, educational background, and future career plans of respondents. \n",
    "\n",
    "Extending on the premise of working for an e-learning company, using data from freeCodeCamp saves resources. Sure, a custom survey can provide greater detail, but it will require tremendous investment of time, manpower, and money. Moreover, since anyone can read freeCodeCamp we can assume that the survey results represents the population of new coders. \n",
    "\n",
    "This midsize dataset (13MB) contains 18715 rows, and 136 attributes. For the original article discussing the findings [click here](https://medium.freecodecamp.org/we-asked-20-000-people-who-they-are-and-how-theyre-learning-to-code-fff5d668969). "
   ]
  },
  {
   "cell_type": "markdown",
   "metadata": {},
   "source": [
    "## The Challenge\n",
    "\n",
    "The exercise can be broken down into answering the following questions:\n",
    "\n",
    "- What are the future job interest of respondents? \n",
    "- Is there enough demand for web and mobile development course?\n",
    "- Where are these future web and mobile developers residing?\n",
    "- Can they pay our asking price?"
   ]
  },
  {
   "cell_type": "markdown",
   "metadata": {},
   "source": [
    "## Job Interest\n",
    "\n",
    "To gauge demand for the course, I took a look and explore the `JobRoleInterest` column. "
   ]
  },
  {
   "cell_type": "code",
   "execution_count": 4,
   "metadata": {},
   "outputs": [
    {
     "data": {
      "text/plain": [
       "0                                                  NaN\n",
       "1                             Full-Stack Web Developer\n",
       "2      Front-End Web Developer, Back-End Web Develo...\n",
       "3      Front-End Web Developer, Full-Stack Web Deve...\n",
       "4    Full-Stack Web Developer, Information Security...\n",
       "5                                                  NaN\n",
       "6                             Full-Stack Web Developer\n",
       "7                                                  NaN\n",
       "8                                                  NaN\n",
       "9    Full-Stack Web Developer,   Quality Assurance ...\n",
       "Name: JobRoleInterest, dtype: object"
      ]
     },
     "execution_count": 4,
     "metadata": {},
     "output_type": "execute_result"
    }
   ],
   "source": [
    "# explore the job role interest column\n",
    "data['JobRoleInterest'].head(10)"
   ]
  },
  {
   "cell_type": "code",
   "execution_count": 5,
   "metadata": {},
   "outputs": [
    {
     "data": {
      "text/html": [
       "<div>\n",
       "<style scoped>\n",
       "    .dataframe tbody tr th:only-of-type {\n",
       "        vertical-align: middle;\n",
       "    }\n",
       "\n",
       "    .dataframe tbody tr th {\n",
       "        vertical-align: top;\n",
       "    }\n",
       "\n",
       "    .dataframe thead th {\n",
       "        text-align: right;\n",
       "    }\n",
       "</style>\n",
       "<table border=\"1\" class=\"dataframe\">\n",
       "  <thead>\n",
       "    <tr style=\"text-align: right;\">\n",
       "      <th></th>\n",
       "      <th>JobRoleInterest</th>\n",
       "    </tr>\n",
       "  </thead>\n",
       "  <tbody>\n",
       "    <tr>\n",
       "      <th>0</th>\n",
       "      <td>NaN</td>\n",
       "    </tr>\n",
       "    <tr>\n",
       "      <th>1</th>\n",
       "      <td>Full-Stack Web Developer</td>\n",
       "    </tr>\n",
       "    <tr>\n",
       "      <th>2</th>\n",
       "      <td>Front-End Web Developer, Back-End Web Develo...</td>\n",
       "    </tr>\n",
       "    <tr>\n",
       "      <th>3</th>\n",
       "      <td>Front-End Web Developer, Full-Stack Web Deve...</td>\n",
       "    </tr>\n",
       "    <tr>\n",
       "      <th>4</th>\n",
       "      <td>Full-Stack Web Developer, Information Security...</td>\n",
       "    </tr>\n",
       "    <tr>\n",
       "      <th>5</th>\n",
       "      <td>NaN</td>\n",
       "    </tr>\n",
       "    <tr>\n",
       "      <th>6</th>\n",
       "      <td>Full-Stack Web Developer</td>\n",
       "    </tr>\n",
       "    <tr>\n",
       "      <th>7</th>\n",
       "      <td>NaN</td>\n",
       "    </tr>\n",
       "    <tr>\n",
       "      <th>8</th>\n",
       "      <td>NaN</td>\n",
       "    </tr>\n",
       "    <tr>\n",
       "      <th>9</th>\n",
       "      <td>Full-Stack Web Developer,   Quality Assurance ...</td>\n",
       "    </tr>\n",
       "  </tbody>\n",
       "</table>\n",
       "</div>"
      ],
      "text/plain": [
       "                                     JobRoleInterest\n",
       "0                                                NaN\n",
       "1                           Full-Stack Web Developer\n",
       "2    Front-End Web Developer, Back-End Web Develo...\n",
       "3    Front-End Web Developer, Full-Stack Web Deve...\n",
       "4  Full-Stack Web Developer, Information Security...\n",
       "5                                                NaN\n",
       "6                           Full-Stack Web Developer\n",
       "7                                                NaN\n",
       "8                                                NaN\n",
       "9  Full-Stack Web Developer,   Quality Assurance ..."
      ]
     },
     "execution_count": 5,
     "metadata": {},
     "output_type": "execute_result"
    }
   ],
   "source": [
    "pd.DataFrame(data['JobRoleInterest'].head(10))"
   ]
  },
  {
   "cell_type": "code",
   "execution_count": 6,
   "metadata": {},
   "outputs": [
    {
     "data": {
      "text/plain": [
       "(18175, 136)"
      ]
     },
     "execution_count": 6,
     "metadata": {},
     "output_type": "execute_result"
    }
   ],
   "source": [
    "data.shape"
   ]
  },
  {
   "cell_type": "markdown",
   "metadata": {},
   "source": [
    "## Ooops\n",
    "\n",
    "This column contains multiple answers--a likely product of *check all that applies* instruction. In order to gain deeper insight on the column, I needed to do the following:\n",
    "\n",
    "- Remove null values \n",
    "- Loop over each row\n",
    "- Split on the `,` then turn the answer into a list\n",
    "- Loop over the list\n",
    "- Record interests for each job role in a dictionary\n",
    "- Additionally, record the number of selected roles"
   ]
  },
  {
   "cell_type": "code",
   "execution_count": 7,
   "metadata": {},
   "outputs": [],
   "source": [
    "# initialize an empty dict\n",
    "job_interest_count = dict()\n",
    "job_interests = dict()\n",
    "\n",
    "no_nulls = data['JobRoleInterest'].dropna()\n",
    "\n",
    "# loop over the (clean) column\n",
    "for index, answer in enumerate(no_nulls):\n",
    "    \n",
    "    # view the column contents\n",
    "    #print(index,answer)\n",
    "    \n",
    "    # convert the answer to string \n",
    "    answer = str(answer)\n",
    "    \n",
    "    # split the answers on using comma as the separator variable\n",
    "    # store the answer in a list\n",
    "    answer_list = [x.strip() for x in answer.split(',')]\n",
    "     \n",
    "    # loop over the answer_list\n",
    "    for item in answer_list:\n",
    "        \n",
    "        # populate the dictionary\n",
    "        if item in job_interests:\n",
    "            job_interests[item] += 1\n",
    "        else:\n",
    "            job_interests[item] = 1\n",
    "    \n",
    "    # record the number of selected roles\n",
    "    \n",
    "    if len(answer_list) in job_interest_count:\n",
    "        job_interest_count[len(answer_list)] += 1\n",
    "    else:\n",
    "        job_interest_count[len(answer_list)] = 1\n",
    "    \n",
    "    \n",
    "    #print(answer_list)"
   ]
  },
  {
   "cell_type": "code",
   "execution_count": 8,
   "metadata": {},
   "outputs": [
    {
     "data": {
      "text/html": [
       "<div>\n",
       "<style scoped>\n",
       "    .dataframe tbody tr th:only-of-type {\n",
       "        vertical-align: middle;\n",
       "    }\n",
       "\n",
       "    .dataframe tbody tr th {\n",
       "        vertical-align: top;\n",
       "    }\n",
       "\n",
       "    .dataframe thead th {\n",
       "        text-align: right;\n",
       "    }\n",
       "</style>\n",
       "<table border=\"1\" class=\"dataframe\">\n",
       "  <thead>\n",
       "    <tr style=\"text-align: right;\">\n",
       "      <th></th>\n",
       "      <th>count</th>\n",
       "    </tr>\n",
       "  </thead>\n",
       "  <tbody>\n",
       "    <tr>\n",
       "      <th>1</th>\n",
       "      <td>2213</td>\n",
       "    </tr>\n",
       "    <tr>\n",
       "      <th>3</th>\n",
       "      <td>1111</td>\n",
       "    </tr>\n",
       "    <tr>\n",
       "      <th>4</th>\n",
       "      <td>1064</td>\n",
       "    </tr>\n",
       "    <tr>\n",
       "      <th>5</th>\n",
       "      <td>842</td>\n",
       "    </tr>\n",
       "    <tr>\n",
       "      <th>2</th>\n",
       "      <td>761</td>\n",
       "    </tr>\n",
       "    <tr>\n",
       "      <th>6</th>\n",
       "      <td>470</td>\n",
       "    </tr>\n",
       "    <tr>\n",
       "      <th>7</th>\n",
       "      <td>270</td>\n",
       "    </tr>\n",
       "    <tr>\n",
       "      <th>8</th>\n",
       "      <td>123</td>\n",
       "    </tr>\n",
       "    <tr>\n",
       "      <th>9</th>\n",
       "      <td>69</td>\n",
       "    </tr>\n",
       "    <tr>\n",
       "      <th>10</th>\n",
       "      <td>33</td>\n",
       "    </tr>\n",
       "    <tr>\n",
       "      <th>12</th>\n",
       "      <td>21</td>\n",
       "    </tr>\n",
       "    <tr>\n",
       "      <th>11</th>\n",
       "      <td>13</td>\n",
       "    </tr>\n",
       "    <tr>\n",
       "      <th>13</th>\n",
       "      <td>2</td>\n",
       "    </tr>\n",
       "  </tbody>\n",
       "</table>\n",
       "</div>"
      ],
      "text/plain": [
       "    count\n",
       "1    2213\n",
       "3    1111\n",
       "4    1064\n",
       "5     842\n",
       "2     761\n",
       "6     470\n",
       "7     270\n",
       "8     123\n",
       "9      69\n",
       "10     33\n",
       "12     21\n",
       "11     13\n",
       "13      2"
      ]
     },
     "execution_count": 8,
     "metadata": {},
     "output_type": "execute_result"
    }
   ],
   "source": [
    "# turn the job interest count dict to dataframe\n",
    "job_interest_count_df = pd.DataFrame.from_dict(job_interest_count, orient = 'index')\n",
    "job_interest_count_df.columns = ['count']\n",
    "job_interest_count_df.sort_values(by=['count'], ascending = False, )"
   ]
  },
  {
   "cell_type": "code",
   "execution_count": 9,
   "metadata": {},
   "outputs": [
    {
     "data": {
      "text/html": [
       "<div>\n",
       "<style scoped>\n",
       "    .dataframe tbody tr th:only-of-type {\n",
       "        vertical-align: middle;\n",
       "    }\n",
       "\n",
       "    .dataframe tbody tr th {\n",
       "        vertical-align: top;\n",
       "    }\n",
       "\n",
       "    .dataframe thead th {\n",
       "        text-align: right;\n",
       "    }\n",
       "</style>\n",
       "<table border=\"1\" class=\"dataframe\">\n",
       "  <thead>\n",
       "    <tr style=\"text-align: right;\">\n",
       "      <th></th>\n",
       "      <th>count</th>\n",
       "    </tr>\n",
       "  </thead>\n",
       "  <tbody>\n",
       "    <tr>\n",
       "      <th>Full-Stack Web Developer</th>\n",
       "      <td>4198</td>\n",
       "    </tr>\n",
       "    <tr>\n",
       "      <th>Front-End Web Developer</th>\n",
       "      <td>3533</td>\n",
       "    </tr>\n",
       "    <tr>\n",
       "      <th>Back-End Web Developer</th>\n",
       "      <td>2772</td>\n",
       "    </tr>\n",
       "    <tr>\n",
       "      <th>Mobile Developer</th>\n",
       "      <td>2304</td>\n",
       "    </tr>\n",
       "    <tr>\n",
       "      <th>Data Scientist</th>\n",
       "      <td>1643</td>\n",
       "    </tr>\n",
       "    <tr>\n",
       "      <th>Game Developer</th>\n",
       "      <td>1628</td>\n",
       "    </tr>\n",
       "    <tr>\n",
       "      <th>User Experience Designer</th>\n",
       "      <td>1469</td>\n",
       "    </tr>\n",
       "    <tr>\n",
       "      <th>Information Security</th>\n",
       "      <td>1326</td>\n",
       "    </tr>\n",
       "    <tr>\n",
       "      <th>Data Engineer</th>\n",
       "      <td>1248</td>\n",
       "    </tr>\n",
       "    <tr>\n",
       "      <th>DevOps / SysAdmin</th>\n",
       "      <td>927</td>\n",
       "    </tr>\n",
       "  </tbody>\n",
       "</table>\n",
       "</div>"
      ],
      "text/plain": [
       "                          count\n",
       "Full-Stack Web Developer   4198\n",
       "Front-End Web Developer    3533\n",
       "Back-End Web Developer     2772\n",
       "Mobile Developer           2304\n",
       "Data Scientist             1643\n",
       "Game Developer             1628\n",
       "User Experience Designer   1469\n",
       "Information Security       1326\n",
       "Data Engineer              1248\n",
       "DevOps / SysAdmin           927"
      ]
     },
     "execution_count": 9,
     "metadata": {},
     "output_type": "execute_result"
    }
   ],
   "source": [
    "job_interest_df = pd.DataFrame.from_dict(job_interests, orient = 'index')\n",
    "job_interest_df.columns = ['count']\n",
    "job_interest_df = job_interest_df.sort_values(by=['count'], ascending = False, )\n",
    "job_interest_df.head(10)"
   ]
  },
  {
   "cell_type": "code",
   "execution_count": 10,
   "metadata": {},
   "outputs": [
    {
     "data": {
      "text/plain": [
       "0.38470426409903713"
      ]
     },
     "execution_count": 10,
     "metadata": {},
     "output_type": "execute_result"
    }
   ],
   "source": [
    "no_nulls.shape[0]/data.shape[0]"
   ]
  },
  {
   "cell_type": "code",
   "execution_count": 11,
   "metadata": {},
   "outputs": [
    {
     "data": {
      "text/html": [
       "<div>\n",
       "<style scoped>\n",
       "    .dataframe tbody tr th:only-of-type {\n",
       "        vertical-align: middle;\n",
       "    }\n",
       "\n",
       "    .dataframe tbody tr th {\n",
       "        vertical-align: top;\n",
       "    }\n",
       "\n",
       "    .dataframe thead th {\n",
       "        text-align: right;\n",
       "    }\n",
       "</style>\n",
       "<table border=\"1\" class=\"dataframe\">\n",
       "  <thead>\n",
       "    <tr style=\"text-align: right;\">\n",
       "      <th></th>\n",
       "      <th>count</th>\n",
       "    </tr>\n",
       "  </thead>\n",
       "  <tbody>\n",
       "    <tr>\n",
       "      <th>1</th>\n",
       "      <td>31.650458</td>\n",
       "    </tr>\n",
       "    <tr>\n",
       "      <th>5</th>\n",
       "      <td>12.042334</td>\n",
       "    </tr>\n",
       "    <tr>\n",
       "      <th>3</th>\n",
       "      <td>15.889588</td>\n",
       "    </tr>\n",
       "    <tr>\n",
       "      <th>6</th>\n",
       "      <td>6.721968</td>\n",
       "    </tr>\n",
       "    <tr>\n",
       "      <th>4</th>\n",
       "      <td>15.217391</td>\n",
       "    </tr>\n",
       "    <tr>\n",
       "      <th>2</th>\n",
       "      <td>10.883867</td>\n",
       "    </tr>\n",
       "    <tr>\n",
       "      <th>12</th>\n",
       "      <td>0.300343</td>\n",
       "    </tr>\n",
       "    <tr>\n",
       "      <th>7</th>\n",
       "      <td>3.861556</td>\n",
       "    </tr>\n",
       "    <tr>\n",
       "      <th>8</th>\n",
       "      <td>1.759153</td>\n",
       "    </tr>\n",
       "    <tr>\n",
       "      <th>10</th>\n",
       "      <td>0.471968</td>\n",
       "    </tr>\n",
       "    <tr>\n",
       "      <th>9</th>\n",
       "      <td>0.986842</td>\n",
       "    </tr>\n",
       "    <tr>\n",
       "      <th>11</th>\n",
       "      <td>0.185927</td>\n",
       "    </tr>\n",
       "    <tr>\n",
       "      <th>13</th>\n",
       "      <td>0.028604</td>\n",
       "    </tr>\n",
       "  </tbody>\n",
       "</table>\n",
       "</div>"
      ],
      "text/plain": [
       "        count\n",
       "1   31.650458\n",
       "5   12.042334\n",
       "3   15.889588\n",
       "6    6.721968\n",
       "4   15.217391\n",
       "2   10.883867\n",
       "12   0.300343\n",
       "7    3.861556\n",
       "8    1.759153\n",
       "10   0.471968\n",
       "9    0.986842\n",
       "11   0.185927\n",
       "13   0.028604"
      ]
     },
     "execution_count": 11,
     "metadata": {},
     "output_type": "execute_result"
    }
   ],
   "source": [
    "# get a freqeuncy table for the number of job interests each respondents entered\n",
    "job_interest_count_df * 100 / job_interest_count_df.sum()"
   ]
  },
  {
   "cell_type": "code",
   "execution_count": 12,
   "metadata": {},
   "outputs": [],
   "source": [
    "# turn the job interest dictionary into a dataframe\n",
    "job_interest = pd.DataFrame.from_dict(job_interests, orient = 'index')\n",
    "job_interest.columns = ['number']"
   ]
  },
  {
   "cell_type": "code",
   "execution_count": 13,
   "metadata": {},
   "outputs": [
    {
     "data": {
      "text/html": [
       "<div>\n",
       "<style scoped>\n",
       "    .dataframe tbody tr th:only-of-type {\n",
       "        vertical-align: middle;\n",
       "    }\n",
       "\n",
       "    .dataframe tbody tr th {\n",
       "        vertical-align: top;\n",
       "    }\n",
       "\n",
       "    .dataframe thead th {\n",
       "        text-align: right;\n",
       "    }\n",
       "</style>\n",
       "<table border=\"1\" class=\"dataframe\">\n",
       "  <thead>\n",
       "    <tr style=\"text-align: right;\">\n",
       "      <th></th>\n",
       "      <th>number</th>\n",
       "    </tr>\n",
       "  </thead>\n",
       "  <tbody>\n",
       "    <tr>\n",
       "      <th>Full-Stack Web Developer</th>\n",
       "      <td>4198</td>\n",
       "    </tr>\n",
       "    <tr>\n",
       "      <th>Front-End Web Developer</th>\n",
       "      <td>3533</td>\n",
       "    </tr>\n",
       "    <tr>\n",
       "      <th>Back-End Web Developer</th>\n",
       "      <td>2772</td>\n",
       "    </tr>\n",
       "    <tr>\n",
       "      <th>Mobile Developer</th>\n",
       "      <td>2304</td>\n",
       "    </tr>\n",
       "    <tr>\n",
       "      <th>Data Scientist</th>\n",
       "      <td>1643</td>\n",
       "    </tr>\n",
       "    <tr>\n",
       "      <th>Game Developer</th>\n",
       "      <td>1628</td>\n",
       "    </tr>\n",
       "    <tr>\n",
       "      <th>User Experience Designer</th>\n",
       "      <td>1469</td>\n",
       "    </tr>\n",
       "    <tr>\n",
       "      <th>Information Security</th>\n",
       "      <td>1326</td>\n",
       "    </tr>\n",
       "    <tr>\n",
       "      <th>Data Engineer</th>\n",
       "      <td>1248</td>\n",
       "    </tr>\n",
       "    <tr>\n",
       "      <th>DevOps / SysAdmin</th>\n",
       "      <td>927</td>\n",
       "    </tr>\n",
       "  </tbody>\n",
       "</table>\n",
       "</div>"
      ],
      "text/plain": [
       "                          number\n",
       "Full-Stack Web Developer    4198\n",
       "Front-End Web Developer     3533\n",
       "Back-End Web Developer      2772\n",
       "Mobile Developer            2304\n",
       "Data Scientist              1643\n",
       "Game Developer              1628\n",
       "User Experience Designer    1469\n",
       "Information Security        1326\n",
       "Data Engineer               1248\n",
       "DevOps / SysAdmin            927"
      ]
     },
     "execution_count": 13,
     "metadata": {},
     "output_type": "execute_result"
    }
   ],
   "source": [
    "# sort the dataframe to show the most common answers\n",
    "job_interest.sort_values(by=['number'], ascending = False, inplace = True)\n",
    "job_interest.head(10)"
   ]
  },
  {
   "cell_type": "code",
   "execution_count": 14,
   "metadata": {},
   "outputs": [
    {
     "data": {
      "text/plain": [
       "Full-Stack Web Developer                                                                           60.040046\n",
       "Front-End Web Developer                                                                            50.529176\n",
       "Back-End Web Developer                                                                             39.645309\n",
       "Mobile Developer                                                                                   32.951945\n",
       "Data Scientist                                                                                     23.498284\n",
       "Game Developer                                                                                     23.283753\n",
       "User Experience Designer                                                                           21.009725\n",
       "Information Security                                                                               18.964531\n",
       "Data Engineer                                                                                      17.848970\n",
       "DevOps / SysAdmin                                                                                  13.258009\n",
       "Product Manager                                                                                    11.641876\n",
       "Quality Assurance Engineer                                                                          7.122426\n",
       "Software Engineer                                                                                   0.157323\n",
       "Software Developer                                                                                  0.085812\n",
       "Software engineer                                                                                   0.057208\n",
       "Artificial Intelligence                                                                             0.057208\n",
       "Desktop Application Developer                                                                       0.042906\n",
       "Machine Learning Engineer                                                                           0.042906\n",
       "data analyst                                                                                        0.028604\n",
       "Business Analyst                                                                                    0.028604\n",
       "Java developer                                                                                      0.028604\n",
       "Project Manager                                                                                     0.028604\n",
       "Bioinformatics                                                                                      0.028604\n",
       "Web Designer                                                                                        0.028604\n",
       "Not sure                                                                                            0.028604\n",
       "Machine Learning                                                                                    0.028604\n",
       "Programmer                                                                                          0.028604\n",
       "Product Designer                                                                                    0.028604\n",
       "programmer                                                                                          0.028604\n",
       "undecided                                                                                           0.028604\n",
       "                                                                                                     ...    \n",
       "Robotics Process Automation Specialist                                                              0.014302\n",
       "Data visualisation                                                                                  0.014302\n",
       "Desktop applications developer                                                                      0.014302\n",
       "All - whatever is required to develop tools to revolutionize the mechanical engineering process     0.014302\n",
       "Digital Humanitites                                                                                 0.014302\n",
       "Software Development                                                                                0.014302\n",
       "Programming                                                                                         0.014302\n",
       "Document Controller                                                                                 0.014302\n",
       "Technology-Business Liaison                                                                         0.014302\n",
       "Journalist/Graphic Designer/Marketing                                                               0.014302\n",
       "Software developer                                                                                  0.014302\n",
       "Computer Architect                                                                                  0.014302\n",
       "Networking                                                                                          0.014302\n",
       "AI and Machine Learning                                                                             0.014302\n",
       "computer engineer                                                                                   0.014302\n",
       "Systems Programming                                                                                 0.014302\n",
       "Software Engineer (Computer Science Based)                                                          0.014302\n",
       "Technology Management                                                                               0.014302\n",
       "full-stack developer                                                                                0.014302\n",
       "BA or developer                                                                                     0.014302\n",
       "Tech art                                                                                            0.014302\n",
       "User Interface Design                                                                               0.014302\n",
       "System Engineer                                                                                     0.014302\n",
       "Network                                                                                             0.014302\n",
       "Analyst                                                                                             0.014302\n",
       "Pharmacy tech                                                                                       0.014302\n",
       "data journalist / data visualist                                                                    0.014302\n",
       "Desings                                                                                             0.014302\n",
       "Infrastructure Architect                                                                            0.014302\n",
       "IT specialist                                                                                       0.014302\n",
       "Name: number, Length: 208, dtype: float64"
      ]
     },
     "execution_count": 14,
     "metadata": {},
     "output_type": "execute_result"
    }
   ],
   "source": [
    "# show the percentage of respondents that show interest in different fields\n",
    "# since multiple answers can be given, this will not total to 100%\n",
    "job_interest['number'] * 100 / no_nulls.shape[0]"
   ]
  },
  {
   "cell_type": "code",
   "execution_count": 15,
   "metadata": {},
   "outputs": [
    {
     "data": {
      "text/plain": [
       "61.529573590096284"
      ]
     },
     "execution_count": 15,
     "metadata": {},
     "output_type": "execute_result"
    }
   ],
   "source": [
    "# compute the percentage of respondents who provided no answer\n",
    "data['JobRoleInterest'].isnull().sum() * 100/data.shape[0]"
   ]
  },
  {
   "cell_type": "code",
   "execution_count": 16,
   "metadata": {},
   "outputs": [
    {
     "data": {
      "text/plain": [
       "86.24141876430205"
      ]
     },
     "execution_count": 16,
     "metadata": {},
     "output_type": "execute_result"
    }
   ],
   "source": [
    "# determine the percentage interested in web and/or mobile developer\n",
    "web_and_mobile = no_nulls.str.contains('Web Developer|Mobile Developer')\n",
    "web_and_mobile.sum() * 100 /len(no_nulls)"
   ]
  },
  {
   "cell_type": "code",
   "execution_count": 17,
   "metadata": {},
   "outputs": [
    {
     "data": {
      "text/plain": [
       "29.676773455377575"
      ]
     },
     "execution_count": 17,
     "metadata": {},
     "output_type": "execute_result"
    }
   ],
   "source": [
    "data_interest = no_nulls.str.contains('Data')\n",
    "data_interest.sum() * 100 / len(no_nulls)"
   ]
  },
  {
   "cell_type": "markdown",
   "metadata": {},
   "source": [
    "## Job interest\n",
    "\n",
    "Surprisingly, 61.53% of respondents did not answer when asked about their preferred future job role. Of those who did answer, only 31% provided a single answer  (they probably knew what they want to do). Overwhelmingly (86.24%), indicated their interest in web and/or mobile development. In fact, the top 4 future job interests all involves web/mobile developent. Comparatively, only 29% of respondents indicated their interest for data science. "
   ]
  },
  {
   "cell_type": "code",
   "execution_count": 18,
   "metadata": {},
   "outputs": [
    {
     "data": {
      "image/png": "[encoded data removed]",
      "text/plain": [
       "<Figure size 1440x864 with 1 Axes>"
      ]
     },
     "metadata": {},
     "output_type": "display_data"
    }
   ],
   "source": [
    "# create a bar plot showing the top answers\n",
    "job_interest[0:8].plot.bar(figsize=(20,12))\n",
    "plt.ylabel('Count', fontsize = 14)\n",
    "plt.xlabel('Response', fontsize = 14)\n",
    "plt.title('Most common future job role interest', fontsize = 16, fontweight = 'bold')\n",
    "plt.savefig('job_interest.png')\n",
    "plt.show()\n"
   ]
  },
  {
   "cell_type": "code",
   "execution_count": null,
   "metadata": {},
   "outputs": [],
   "source": []
  },
  {
   "cell_type": "markdown",
   "metadata": {},
   "source": [
    "## Market\n",
    "\n",
    "Obviously, an ad campaign must run on areas where customers reside. To do that, we explore the `CountryLive` column. For this part, I only included those participants that provided info on the job role interest question to ensure representative samples."
   ]
  },
  {
   "cell_type": "code",
   "execution_count": 19,
   "metadata": {},
   "outputs": [
    {
     "data": {
      "text/html": [
       "<div>\n",
       "<style scoped>\n",
       "    .dataframe tbody tr th:only-of-type {\n",
       "        vertical-align: middle;\n",
       "    }\n",
       "\n",
       "    .dataframe tbody tr th {\n",
       "        vertical-align: top;\n",
       "    }\n",
       "\n",
       "    .dataframe thead th {\n",
       "        text-align: right;\n",
       "    }\n",
       "</style>\n",
       "<table border=\"1\" class=\"dataframe\">\n",
       "  <thead>\n",
       "    <tr style=\"text-align: right;\">\n",
       "      <th></th>\n",
       "      <th>Age</th>\n",
       "      <th>AttendedBootcamp</th>\n",
       "      <th>BootcampFinish</th>\n",
       "      <th>BootcampLoanYesNo</th>\n",
       "      <th>BootcampRecommend</th>\n",
       "      <th>ChildrenNumber</th>\n",
       "      <th>CodeEventConferences</th>\n",
       "      <th>CodeEventDjangoGirls</th>\n",
       "      <th>CodeEventFCC</th>\n",
       "      <th>CodeEventGameJam</th>\n",
       "      <th>...</th>\n",
       "      <th>YouTubeEngineeredTruth</th>\n",
       "      <th>YouTubeFCC</th>\n",
       "      <th>YouTubeFunFunFunction</th>\n",
       "      <th>YouTubeGoogleDev</th>\n",
       "      <th>YouTubeLearnCode</th>\n",
       "      <th>YouTubeLevelUpTuts</th>\n",
       "      <th>YouTubeMIT</th>\n",
       "      <th>YouTubeMozillaHacks</th>\n",
       "      <th>YouTubeSimplilearn</th>\n",
       "      <th>YouTubeTheNewBoston</th>\n",
       "    </tr>\n",
       "  </thead>\n",
       "  <tbody>\n",
       "    <tr>\n",
       "      <th>count</th>\n",
       "      <td>6839.000000</td>\n",
       "      <td>6894.000000</td>\n",
       "      <td>360.000000</td>\n",
       "      <td>365.000000</td>\n",
       "      <td>365.000000</td>\n",
       "      <td>938.000000</td>\n",
       "      <td>460.0</td>\n",
       "      <td>54.0</td>\n",
       "      <td>733.0</td>\n",
       "      <td>94.0</td>\n",
       "      <td>...</td>\n",
       "      <td>477.0</td>\n",
       "      <td>2565.0</td>\n",
       "      <td>453.0</td>\n",
       "      <td>1150.0</td>\n",
       "      <td>1079.0</td>\n",
       "      <td>485.0</td>\n",
       "      <td>1313.0</td>\n",
       "      <td>174.0</td>\n",
       "      <td>72.0</td>\n",
       "      <td>1143.0</td>\n",
       "    </tr>\n",
       "    <tr>\n",
       "      <th>mean</th>\n",
       "      <td>27.413803</td>\n",
       "      <td>0.053815</td>\n",
       "      <td>0.483333</td>\n",
       "      <td>0.320548</td>\n",
       "      <td>0.786301</td>\n",
       "      <td>1.825160</td>\n",
       "      <td>1.0</td>\n",
       "      <td>1.0</td>\n",
       "      <td>1.0</td>\n",
       "      <td>1.0</td>\n",
       "      <td>...</td>\n",
       "      <td>1.0</td>\n",
       "      <td>1.0</td>\n",
       "      <td>1.0</td>\n",
       "      <td>1.0</td>\n",
       "      <td>1.0</td>\n",
       "      <td>1.0</td>\n",
       "      <td>1.0</td>\n",
       "      <td>1.0</td>\n",
       "      <td>1.0</td>\n",
       "      <td>1.0</td>\n",
       "    </tr>\n",
       "    <tr>\n",
       "      <th>std</th>\n",
       "      <td>8.537008</td>\n",
       "      <td>0.225668</td>\n",
       "      <td>0.500418</td>\n",
       "      <td>0.467328</td>\n",
       "      <td>0.410479</td>\n",
       "      <td>0.927078</td>\n",
       "      <td>0.0</td>\n",
       "      <td>0.0</td>\n",
       "      <td>0.0</td>\n",
       "      <td>0.0</td>\n",
       "      <td>...</td>\n",
       "      <td>0.0</td>\n",
       "      <td>0.0</td>\n",
       "      <td>0.0</td>\n",
       "      <td>0.0</td>\n",
       "      <td>0.0</td>\n",
       "      <td>0.0</td>\n",
       "      <td>0.0</td>\n",
       "      <td>0.0</td>\n",
       "      <td>0.0</td>\n",
       "      <td>0.0</td>\n",
       "    </tr>\n",
       "    <tr>\n",
       "      <th>min</th>\n",
       "      <td>0.000000</td>\n",
       "      <td>0.000000</td>\n",
       "      <td>0.000000</td>\n",
       "      <td>0.000000</td>\n",
       "      <td>0.000000</td>\n",
       "      <td>1.000000</td>\n",
       "      <td>1.0</td>\n",
       "      <td>1.0</td>\n",
       "      <td>1.0</td>\n",
       "      <td>1.0</td>\n",
       "      <td>...</td>\n",
       "      <td>1.0</td>\n",
       "      <td>1.0</td>\n",
       "      <td>1.0</td>\n",
       "      <td>1.0</td>\n",
       "      <td>1.0</td>\n",
       "      <td>1.0</td>\n",
       "      <td>1.0</td>\n",
       "      <td>1.0</td>\n",
       "      <td>1.0</td>\n",
       "      <td>1.0</td>\n",
       "    </tr>\n",
       "    <tr>\n",
       "      <th>25%</th>\n",
       "      <td>21.000000</td>\n",
       "      <td>0.000000</td>\n",
       "      <td>0.000000</td>\n",
       "      <td>0.000000</td>\n",
       "      <td>1.000000</td>\n",
       "      <td>1.000000</td>\n",
       "      <td>1.0</td>\n",
       "      <td>1.0</td>\n",
       "      <td>1.0</td>\n",
       "      <td>1.0</td>\n",
       "      <td>...</td>\n",
       "      <td>1.0</td>\n",
       "      <td>1.0</td>\n",
       "      <td>1.0</td>\n",
       "      <td>1.0</td>\n",
       "      <td>1.0</td>\n",
       "      <td>1.0</td>\n",
       "      <td>1.0</td>\n",
       "      <td>1.0</td>\n",
       "      <td>1.0</td>\n",
       "      <td>1.0</td>\n",
       "    </tr>\n",
       "    <tr>\n",
       "      <th>50%</th>\n",
       "      <td>26.000000</td>\n",
       "      <td>0.000000</td>\n",
       "      <td>0.000000</td>\n",
       "      <td>0.000000</td>\n",
       "      <td>1.000000</td>\n",
       "      <td>2.000000</td>\n",
       "      <td>1.0</td>\n",
       "      <td>1.0</td>\n",
       "      <td>1.0</td>\n",
       "      <td>1.0</td>\n",
       "      <td>...</td>\n",
       "      <td>1.0</td>\n",
       "      <td>1.0</td>\n",
       "      <td>1.0</td>\n",
       "      <td>1.0</td>\n",
       "      <td>1.0</td>\n",
       "      <td>1.0</td>\n",
       "      <td>1.0</td>\n",
       "      <td>1.0</td>\n",
       "      <td>1.0</td>\n",
       "      <td>1.0</td>\n",
       "    </tr>\n",
       "    <tr>\n",
       "      <th>75%</th>\n",
       "      <td>32.000000</td>\n",
       "      <td>0.000000</td>\n",
       "      <td>1.000000</td>\n",
       "      <td>1.000000</td>\n",
       "      <td>1.000000</td>\n",
       "      <td>2.000000</td>\n",
       "      <td>1.0</td>\n",
       "      <td>1.0</td>\n",
       "      <td>1.0</td>\n",
       "      <td>1.0</td>\n",
       "      <td>...</td>\n",
       "      <td>1.0</td>\n",
       "      <td>1.0</td>\n",
       "      <td>1.0</td>\n",
       "      <td>1.0</td>\n",
       "      <td>1.0</td>\n",
       "      <td>1.0</td>\n",
       "      <td>1.0</td>\n",
       "      <td>1.0</td>\n",
       "      <td>1.0</td>\n",
       "      <td>1.0</td>\n",
       "    </tr>\n",
       "    <tr>\n",
       "      <th>max</th>\n",
       "      <td>71.000000</td>\n",
       "      <td>1.000000</td>\n",
       "      <td>1.000000</td>\n",
       "      <td>1.000000</td>\n",
       "      <td>1.000000</td>\n",
       "      <td>7.000000</td>\n",
       "      <td>1.0</td>\n",
       "      <td>1.0</td>\n",
       "      <td>1.0</td>\n",
       "      <td>1.0</td>\n",
       "      <td>...</td>\n",
       "      <td>1.0</td>\n",
       "      <td>1.0</td>\n",
       "      <td>1.0</td>\n",
       "      <td>1.0</td>\n",
       "      <td>1.0</td>\n",
       "      <td>1.0</td>\n",
       "      <td>1.0</td>\n",
       "      <td>1.0</td>\n",
       "      <td>1.0</td>\n",
       "      <td>1.0</td>\n",
       "    </tr>\n",
       "  </tbody>\n",
       "</table>\n",
       "<p>8 rows × 105 columns</p>\n",
       "</div>"
      ],
      "text/plain": [
       "               Age  AttendedBootcamp  BootcampFinish  BootcampLoanYesNo  \\\n",
       "count  6839.000000       6894.000000      360.000000         365.000000   \n",
       "mean     27.413803          0.053815        0.483333           0.320548   \n",
       "std       8.537008          0.225668        0.500418           0.467328   \n",
       "min       0.000000          0.000000        0.000000           0.000000   \n",
       "25%      21.000000          0.000000        0.000000           0.000000   \n",
       "50%      26.000000          0.000000        0.000000           0.000000   \n",
       "75%      32.000000          0.000000        1.000000           1.000000   \n",
       "max      71.000000          1.000000        1.000000           1.000000   \n",
       "\n",
       "       BootcampRecommend  ChildrenNumber  CodeEventConferences  \\\n",
       "count         365.000000      938.000000                 460.0   \n",
       "mean            0.786301        1.825160                   1.0   \n",
       "std             0.410479        0.927078                   0.0   \n",
       "min             0.000000        1.000000                   1.0   \n",
       "25%             1.000000        1.000000                   1.0   \n",
       "50%             1.000000        2.000000                   1.0   \n",
       "75%             1.000000        2.000000                   1.0   \n",
       "max             1.000000        7.000000                   1.0   \n",
       "\n",
       "       CodeEventDjangoGirls  CodeEventFCC  CodeEventGameJam  \\\n",
       "count                  54.0         733.0              94.0   \n",
       "mean                    1.0           1.0               1.0   \n",
       "std                     0.0           0.0               0.0   \n",
       "min                     1.0           1.0               1.0   \n",
       "25%                     1.0           1.0               1.0   \n",
       "50%                     1.0           1.0               1.0   \n",
       "75%                     1.0           1.0               1.0   \n",
       "max                     1.0           1.0               1.0   \n",
       "\n",
       "              ...           YouTubeEngineeredTruth  YouTubeFCC  \\\n",
       "count         ...                            477.0      2565.0   \n",
       "mean          ...                              1.0         1.0   \n",
       "std           ...                              0.0         0.0   \n",
       "min           ...                              1.0         1.0   \n",
       "25%           ...                              1.0         1.0   \n",
       "50%           ...                              1.0         1.0   \n",
       "75%           ...                              1.0         1.0   \n",
       "max           ...                              1.0         1.0   \n",
       "\n",
       "       YouTubeFunFunFunction  YouTubeGoogleDev  YouTubeLearnCode  \\\n",
       "count                  453.0            1150.0            1079.0   \n",
       "mean                     1.0               1.0               1.0   \n",
       "std                      0.0               0.0               0.0   \n",
       "min                      1.0               1.0               1.0   \n",
       "25%                      1.0               1.0               1.0   \n",
       "50%                      1.0               1.0               1.0   \n",
       "75%                      1.0               1.0               1.0   \n",
       "max                      1.0               1.0               1.0   \n",
       "\n",
       "       YouTubeLevelUpTuts  YouTubeMIT  YouTubeMozillaHacks  \\\n",
       "count               485.0      1313.0                174.0   \n",
       "mean                  1.0         1.0                  1.0   \n",
       "std                   0.0         0.0                  0.0   \n",
       "min                   1.0         1.0                  1.0   \n",
       "25%                   1.0         1.0                  1.0   \n",
       "50%                   1.0         1.0                  1.0   \n",
       "75%                   1.0         1.0                  1.0   \n",
       "max                   1.0         1.0                  1.0   \n",
       "\n",
       "       YouTubeSimplilearn  YouTubeTheNewBoston  \n",
       "count                72.0               1143.0  \n",
       "mean                  1.0                  1.0  \n",
       "std                   0.0                  0.0  \n",
       "min                   1.0                  1.0  \n",
       "25%                   1.0                  1.0  \n",
       "50%                   1.0                  1.0  \n",
       "75%                   1.0                  1.0  \n",
       "max                   1.0                  1.0  \n",
       "\n",
       "[8 rows x 105 columns]"
      ]
     },
     "execution_count": 19,
     "metadata": {},
     "output_type": "execute_result"
    }
   ],
   "source": [
    "# select rows where job role interest is not null\n",
    "cleaned_data = data[data['JobRoleInterest'].notnull()].copy()\n",
    "cleaned_data.describe()"
   ]
  },
  {
   "cell_type": "code",
   "execution_count": 20,
   "metadata": {},
   "outputs": [],
   "source": [
    "# determine where most respondents live\n",
    "countries_most = cleaned_data['CountryLive'].value_counts()\n",
    "countries_most.sort_values(inplace = True, ascending = False)"
   ]
  },
  {
   "cell_type": "code",
   "execution_count": 21,
   "metadata": {},
   "outputs": [
    {
     "data": {
      "text/plain": [
       "'<table border=\"1\" class=\"dataframe\">\\n  <thead>\\n    <tr style=\"text-align: right;\">\\n      <th></th>\\n      <th>CountryLive</th>\\n    </tr>\\n  </thead>\\n  <tbody>\\n    <tr>\\n      <th>United States of America</th>\\n      <td>45.700497</td>\\n    </tr>\\n    <tr>\\n      <th>India</th>\\n      <td>7.721556</td>\\n    </tr>\\n    <tr>\\n      <th>United Kingdom</th>\\n      <td>4.606610</td>\\n    </tr>\\n    <tr>\\n      <th>Canada</th>\\n      <td>3.802281</td>\\n    </tr>\\n    <tr>\\n      <th>Poland</th>\\n      <td>1.915765</td>\\n    </tr>\\n    <tr>\\n      <th>Brazil</th>\\n      <td>1.886517</td>\\n    </tr>\\n    <tr>\\n      <th>Germany</th>\\n      <td>1.828020</td>\\n    </tr>\\n    <tr>\\n      <th>Australia</th>\\n      <td>1.637906</td>\\n    </tr>\\n    <tr>\\n      <th>Russia</th>\\n      <td>1.491664</td>\\n    </tr>\\n    <tr>\\n      <th>Ukraine</th>\\n      <td>1.301550</td>\\n    </tr>\\n    <tr>\\n      <th>Nigeria</th>\\n      <td>1.228429</td>\\n    </tr>\\n    <tr>\\n      <th>Spain</th>\\n      <td>1.126060</td>\\n    </tr>\\n    <tr>\\n      <th>France</th>\\n      <td>1.096812</td>\\n    </tr>\\n    <tr>\\n      <th>Romania</th>\\n      <td>1.038315</td>\\n    </tr>\\n    <tr>\\n      <th>Netherlands (Holland, Europe)</th>\\n      <td>0.950570</td>\\n    </tr>\\n    <tr>\\n      <th>Italy</th>\\n      <td>0.906698</td>\\n    </tr>\\n    <tr>\\n      <th>Serbia</th>\\n      <td>0.760456</td>\\n    </tr>\\n    <tr>\\n      <th>Philippines</th>\\n      <td>0.760456</td>\\n    </tr>\\n    <tr>\\n      <th>Greece</th>\\n      <td>0.672711</td>\\n    </tr>\\n    <tr>\\n      <th>Ireland</th>\\n      <td>0.628839</td>\\n    </tr>\\n  </tbody>\\n</table>'"
      ]
     },
     "execution_count": 21,
     "metadata": {},
     "output_type": "execute_result"
    }
   ],
   "source": [
    "# normalize data\n",
    "normalized_countries = (countries_most * 100) / countries_most.sum()\n",
    "pd.DataFrame(normalized_countries[:20]).to_html()"
   ]
  },
  {
   "cell_type": "markdown",
   "metadata": {},
   "source": [
    "## Targets\n",
    "\n",
    "US, India, UK, Canada, and Brazil compose the five largest markets this ad campaign can focus on. Interestingly, only the Philippines cracked the top 20 from South East Asia."
   ]
  },
  {
   "cell_type": "markdown",
   "metadata": {
    "collapsed": true
   },
   "source": [
    "## Money spent\n",
    "\n",
    "The amount of money each respondent spends for learning signifies their willingness, and ability to pay the subscription rate for the training ($59 per month). Moreover, since US, UK, India, and Canada comprise nearly half of the respondent (47%) the ad campaign can be targeted to those four markets.  "
   ]
  },
  {
   "cell_type": "code",
   "execution_count": 22,
   "metadata": {},
   "outputs": [
    {
     "data": {
      "text/plain": [
       "count    6633.000000\n",
       "mean       13.681140\n",
       "std        29.586196\n",
       "min         1.000000\n",
       "25%         2.000000\n",
       "50%         6.000000\n",
       "75%        15.000000\n",
       "max       744.000000\n",
       "Name: MonthsProgramming, dtype: float64"
      ]
     },
     "execution_count": 22,
     "metadata": {},
     "output_type": "execute_result"
    }
   ],
   "source": [
    "# divide the money for learning column and the months spent programming\n",
    "# to define a new column called MoneySpentMonthly \n",
    "# however, replace first 0 values to 1 in the MonthsProgramming column\n",
    "# to avoid dividing by zero\n",
    "\n",
    "cleaned_data['MonthsProgramming'].replace(0,1, inplace = True)\n",
    "\n",
    "# check that the minimum value is now 1\n",
    "cleaned_data['MonthsProgramming'].describe()"
   ]
  },
  {
   "cell_type": "code",
   "execution_count": 23,
   "metadata": {},
   "outputs": [],
   "source": [
    "# create a new column that shows the money spent per month of each respondent\n",
    "cleaned_data['MoneySpentMonthly'] = cleaned_data['MoneyForLearning'] / cleaned_data['MonthsProgramming']\n"
   ]
  },
  {
   "cell_type": "code",
   "execution_count": 24,
   "metadata": {},
   "outputs": [],
   "source": [
    "# group by country and select the money spent per month column\n",
    "data_grouped = cleaned_data.groupby(by = ['CountryLive']).mean()\n",
    "willingness_to_pay = data_grouped.loc[['United States of America', 'India', 'United Kingdom','Canada'],['MoneySpentMonthly']]"
   ]
  },
  {
   "cell_type": "code",
   "execution_count": 25,
   "metadata": {},
   "outputs": [
    {
     "data": {
      "text/html": [
       "<div>\n",
       "<style scoped>\n",
       "    .dataframe tbody tr th:only-of-type {\n",
       "        vertical-align: middle;\n",
       "    }\n",
       "\n",
       "    .dataframe tbody tr th {\n",
       "        vertical-align: top;\n",
       "    }\n",
       "\n",
       "    .dataframe thead th {\n",
       "        text-align: right;\n",
       "    }\n",
       "</style>\n",
       "<table border=\"1\" class=\"dataframe\">\n",
       "  <thead>\n",
       "    <tr style=\"text-align: right;\">\n",
       "      <th></th>\n",
       "      <th>MoneySpentMonthly</th>\n",
       "    </tr>\n",
       "    <tr>\n",
       "      <th>CountryLive</th>\n",
       "      <th></th>\n",
       "    </tr>\n",
       "  </thead>\n",
       "  <tbody>\n",
       "    <tr>\n",
       "      <th>United States of America</th>\n",
       "      <td>227.997996</td>\n",
       "    </tr>\n",
       "    <tr>\n",
       "      <th>India</th>\n",
       "      <td>135.100982</td>\n",
       "    </tr>\n",
       "    <tr>\n",
       "      <th>United Kingdom</th>\n",
       "      <td>45.534443</td>\n",
       "    </tr>\n",
       "    <tr>\n",
       "      <th>Canada</th>\n",
       "      <td>113.510961</td>\n",
       "    </tr>\n",
       "  </tbody>\n",
       "</table>\n",
       "</div>"
      ],
      "text/plain": [
       "                          MoneySpentMonthly\n",
       "CountryLive                                \n",
       "United States of America         227.997996\n",
       "India                            135.100982\n",
       "United Kingdom                    45.534443\n",
       "Canada                           113.510961"
      ]
     },
     "execution_count": 25,
     "metadata": {},
     "output_type": "execute_result"
    }
   ],
   "source": [
    "willingness_to_pay"
   ]
  },
  {
   "cell_type": "code",
   "execution_count": 26,
   "metadata": {},
   "outputs": [
    {
     "data": {
      "text/plain": [
       "'<table border=\"1\" class=\"dataframe\">\\n  <thead>\\n    <tr style=\"text-align: right;\">\\n      <th></th>\\n      <th>MoneySpentMonthly</th>\\n    </tr>\\n    <tr>\\n      <th>CountryLive</th>\\n      <th></th>\\n    </tr>\\n  </thead>\\n  <tbody>\\n    <tr>\\n      <th>United States of America</th>\\n      <td>227.997996</td>\\n    </tr>\\n    <tr>\\n      <th>India</th>\\n      <td>135.100982</td>\\n    </tr>\\n    <tr>\\n      <th>United Kingdom</th>\\n      <td>45.534443</td>\\n    </tr>\\n    <tr>\\n      <th>Canada</th>\\n      <td>113.510961</td>\\n    </tr>\\n  </tbody>\\n</table>'"
      ]
     },
     "execution_count": 26,
     "metadata": {},
     "output_type": "execute_result"
    }
   ],
   "source": [
    "willingness_to_pay.to_html()"
   ]
  },
  {
   "cell_type": "code",
   "execution_count": 27,
   "metadata": {},
   "outputs": [
    {
     "data": {
      "image/png": "[encoded data removed]",
      "text/plain": [
       "<Figure size 432x288 with 1 Axes>"
      ]
     },
     "metadata": {},
     "output_type": "display_data"
    }
   ],
   "source": [
    "# select the top 4\n",
    "top_4 = cleaned_data[cleaned_data['CountryLive'].isin(['United States of America', 'India', 'United Kingdom','Canada'])]\n",
    "\n",
    "sns.boxplot(x='CountryLive', y='MoneySpentMonthly', data = top_4)\n",
    "plt.ylim(0,10000)\n",
    "plt.show()"
   ]
  },
  {
   "cell_type": "markdown",
   "metadata": {},
   "source": [
    "## Interpretation\n",
    "\n",
    "Expectedly, American citizens spends the most per month on online learning platforms. Surprisingly, India came in second, and outspends UK and Canada. Factor in the higher relative cost of online education in India, and it can be concluded that the Indian market is lucrative. "
   ]
  },
  {
   "cell_type": "markdown",
   "metadata": {},
   "source": [
    "## Additional Analysis\n",
    "\n",
    "Wanting to dig deep, I obtained the country data for the Philippines, and for the rest of the world."
   ]
  },
  {
   "cell_type": "code",
   "execution_count": 28,
   "metadata": {},
   "outputs": [
    {
     "data": {
      "text/plain": [
       "(135, 136)"
      ]
     },
     "execution_count": 28,
     "metadata": {},
     "output_type": "execute_result"
    }
   ],
   "source": [
    "philippines = data[data['CountryLive'] == 'Philippines']\n",
    "philippines.shape"
   ]
  },
  {
   "cell_type": "code",
   "execution_count": 29,
   "metadata": {},
   "outputs": [
    {
     "data": {
      "text/plain": [
       "(18040, 136)"
      ]
     },
     "execution_count": 29,
     "metadata": {},
     "output_type": "execute_result"
    }
   ],
   "source": [
    "rest = data[data['CountryLive'] != 'Philippines']\n",
    "rest.shape"
   ]
  },
  {
   "cell_type": "code",
   "execution_count": 30,
   "metadata": {},
   "outputs": [
    {
     "data": {
      "text/plain": [
       "0.05263157894736842"
      ]
     },
     "execution_count": 30,
     "metadata": {},
     "output_type": "execute_result"
    }
   ],
   "source": [
    "philippines['AttendedBootcamp'].mean()"
   ]
  },
  {
   "cell_type": "code",
   "execution_count": 31,
   "metadata": {},
   "outputs": [
    {
     "data": {
      "text/plain": [
       "25.253731343283583"
      ]
     },
     "execution_count": 31,
     "metadata": {},
     "output_type": "execute_result"
    }
   ],
   "source": [
    "philippines['Age'].mean()"
   ]
  },
  {
   "cell_type": "code",
   "execution_count": 32,
   "metadata": {},
   "outputs": [
    {
     "data": {
      "text/plain": [
       "27.713319766296856"
      ]
     },
     "execution_count": 32,
     "metadata": {},
     "output_type": "execute_result"
    }
   ],
   "source": [
    "rest['Age'].mean()"
   ]
  },
  {
   "cell_type": "code",
   "execution_count": 33,
   "metadata": {},
   "outputs": [
    {
     "data": {
      "image/png": "[encoded data removed]",
      "text/plain": [
       "<Figure size 576x288 with 2 Axes>"
      ]
     },
     "metadata": {},
     "output_type": "display_data"
    }
   ],
   "source": [
    "# create a boxplot comparing the age of learners in the philippines vs. rest of the world\n",
    "\n",
    "sns.set_style('ticks')\n",
    "fig, ax= plt.subplots(1,2,sharey=True)\n",
    "fig.set_size_inches(8, 4)\n",
    "\n",
    "plt.subplot(1,2,1)\n",
    "sns.boxplot( y=philippines['Age'])\n",
    "plt.ylim(0,100)\n",
    "plt.title('Philippines')\n",
    "\n",
    "plt.subplot(1,2,2)\n",
    "sns.boxplot(y=data['Age'])\n",
    "plt.ylim(0,100)\n",
    "plt.title('Rest of the World')\n",
    "\n",
    "plt.tight_layout()\n",
    "plt.savefig('philippines_rest_age.png')\n",
    "plt.show()"
   ]
  },
  {
   "cell_type": "code",
   "execution_count": 34,
   "metadata": {},
   "outputs": [
    {
     "data": {
      "image/png": "[encoded data removed]",
      "text/plain": [
       "<Figure size 576x288 with 2 Axes>"
      ]
     },
     "metadata": {},
     "output_type": "display_data"
    }
   ],
   "source": [
    "# create a boxplot comparing the money spent in the philippines vs. rest of the world\n",
    "\n",
    "sns.set_style('ticks')\n",
    "fig, ax= plt.subplots(1,2,sharey=True)\n",
    "fig.set_size_inches(8, 4)\n",
    "\n",
    "plt.subplot(1,2,1)\n",
    "sns.boxplot( y=philippines['MoneyForLearning'])\n",
    "plt.ylim(0,4000)\n",
    "plt.title('Philippines')\n",
    "\n",
    "plt.subplot(1,2,2)\n",
    "sns.boxplot(y=data['MoneyForLearning'])\n",
    "plt.ylim(0,4000)\n",
    "plt.title('Rest of the World')\n",
    "\n",
    "plt.tight_layout()\n",
    "plt.savefig('philippines_rest_money.png')\n",
    "plt.show()"
   ]
  },
  {
   "cell_type": "code",
   "execution_count": 87,
   "metadata": {},
   "outputs": [
    {
     "data": {
      "text/plain": [
       "224.359649122807"
      ]
     },
     "execution_count": 87,
     "metadata": {},
     "output_type": "execute_result"
    }
   ],
   "source": [
    "philippines['MoneyForLearning'].mean()"
   ]
  },
  {
   "cell_type": "code",
   "execution_count": 89,
   "metadata": {},
   "outputs": [
    {
     "data": {
      "text/plain": [
       "962.375083520622"
      ]
     },
     "execution_count": 89,
     "metadata": {},
     "output_type": "execute_result"
    }
   ],
   "source": [
    "rest['MoneyForLearning'].mean()"
   ]
  },
  {
   "cell_type": "markdown",
   "metadata": {},
   "source": [
    "## Comparing Job Interest"
   ]
  },
  {
   "cell_type": "code",
   "execution_count": 35,
   "metadata": {},
   "outputs": [],
   "source": [
    "def job_roles(data):\n",
    "    # initialize an empty dict\n",
    "    job_interest_count = dict()\n",
    "    job_interests = dict()\n",
    "\n",
    "    no_nulls = data['JobRoleInterest'].dropna()\n",
    "\n",
    "    # loop over the (clean) column\n",
    "    for index, answer in enumerate(no_nulls):\n",
    "\n",
    "        # view the column contents\n",
    "        #print(index,answer)\n",
    "\n",
    "        # convert the answer to string \n",
    "        answer = str(answer)\n",
    "\n",
    "        # split the answers on using comma as the separator variable\n",
    "        # store the answer in a list\n",
    "        answer_list = [x.strip() for x in answer.split(',')]\n",
    "\n",
    "        # loop over the answer_list\n",
    "        for item in answer_list:\n",
    "\n",
    "            # populate the dictionary\n",
    "            if item in job_interests:\n",
    "                job_interests[item] += 1\n",
    "            else:\n",
    "                job_interests[item] = 1\n",
    "\n",
    "        # record the number of selected roles\n",
    "\n",
    "        if len(answer_list) in job_interest_count:\n",
    "            job_interest_count[len(answer_list)] += 1\n",
    "        else:\n",
    "            job_interest_count[len(answer_list)] = 1\n",
    "    \n",
    "    return job_interest_count, job_interests\n",
    "\n",
    "job_interest_count_phil, job_interest_phil = job_roles(philippines)\n",
    "job_interest_count_rest, job_interest_rest = job_roles(rest)"
   ]
  },
  {
   "cell_type": "code",
   "execution_count": 36,
   "metadata": {},
   "outputs": [
    {
     "data": {
      "text/plain": [
       "{4: 13, 3: 8, 1: 14, 6: 5, 8: 1, 10: 2, 5: 5, 12: 2, 2: 1, 7: 1}"
      ]
     },
     "execution_count": 36,
     "metadata": {},
     "output_type": "execute_result"
    }
   ],
   "source": [
    "job_interest_count_phil"
   ]
  },
  {
   "cell_type": "code",
   "execution_count": 77,
   "metadata": {},
   "outputs": [
    {
     "data": {
      "text/html": [
       "<div>\n",
       "<style scoped>\n",
       "    .dataframe tbody tr th:only-of-type {\n",
       "        vertical-align: middle;\n",
       "    }\n",
       "\n",
       "    .dataframe tbody tr th {\n",
       "        vertical-align: top;\n",
       "    }\n",
       "\n",
       "    .dataframe thead th {\n",
       "        text-align: right;\n",
       "    }\n",
       "</style>\n",
       "<table border=\"1\" class=\"dataframe\">\n",
       "  <thead>\n",
       "    <tr style=\"text-align: right;\">\n",
       "      <th></th>\n",
       "      <th>number</th>\n",
       "    </tr>\n",
       "  </thead>\n",
       "  <tbody>\n",
       "    <tr>\n",
       "      <th>Full-Stack Web Developer</th>\n",
       "      <td>31</td>\n",
       "    </tr>\n",
       "    <tr>\n",
       "      <th>Back-End Web Developer</th>\n",
       "      <td>30</td>\n",
       "    </tr>\n",
       "    <tr>\n",
       "      <th>Front-End Web Developer</th>\n",
       "      <td>27</td>\n",
       "    </tr>\n",
       "    <tr>\n",
       "      <th>Mobile Developer</th>\n",
       "      <td>21</td>\n",
       "    </tr>\n",
       "    <tr>\n",
       "      <th>Game Developer</th>\n",
       "      <td>18</td>\n",
       "    </tr>\n",
       "    <tr>\n",
       "      <th>Information Security</th>\n",
       "      <td>15</td>\n",
       "    </tr>\n",
       "    <tr>\n",
       "      <th>User Experience Designer</th>\n",
       "      <td>14</td>\n",
       "    </tr>\n",
       "    <tr>\n",
       "      <th>Data Scientist</th>\n",
       "      <td>13</td>\n",
       "    </tr>\n",
       "    <tr>\n",
       "      <th>Data Engineer</th>\n",
       "      <td>12</td>\n",
       "    </tr>\n",
       "    <tr>\n",
       "      <th>Quality Assurance Engineer</th>\n",
       "      <td>10</td>\n",
       "    </tr>\n",
       "    <tr>\n",
       "      <th>DevOps / SysAdmin</th>\n",
       "      <td>9</td>\n",
       "    </tr>\n",
       "    <tr>\n",
       "      <th>Product Manager</th>\n",
       "      <td>5</td>\n",
       "    </tr>\n",
       "    <tr>\n",
       "      <th>Software Engineer</th>\n",
       "      <td>1</td>\n",
       "    </tr>\n",
       "  </tbody>\n",
       "</table>\n",
       "</div>"
      ],
      "text/plain": [
       "                            number\n",
       "Full-Stack Web Developer        31\n",
       "Back-End Web Developer          30\n",
       "Front-End Web Developer         27\n",
       "Mobile Developer                21\n",
       "Game Developer                  18\n",
       "Information Security            15\n",
       "User Experience Designer        14\n",
       "Data Scientist                  13\n",
       "Data Engineer                   12\n",
       "Quality Assurance Engineer      10\n",
       "DevOps / SysAdmin                9\n",
       "Product Manager                  5\n",
       "Software Engineer                1"
      ]
     },
     "execution_count": 77,
     "metadata": {},
     "output_type": "execute_result"
    }
   ],
   "source": [
    "job_interest_phil_df = pd.DataFrame.from_dict(job_interest_phil, orient = 'index')\n",
    "job_interest_phil_df.columns = ['number']\n",
    "job_interest_phil_df.sort_values(by=['number'],ascending=False,inplace=True)\n",
    "job_interest_phil_df"
   ]
  },
  {
   "cell_type": "code",
   "execution_count": 45,
   "metadata": {},
   "outputs": [
    {
     "data": {
      "text/html": [
       "<div>\n",
       "<style scoped>\n",
       "    .dataframe tbody tr th:only-of-type {\n",
       "        vertical-align: middle;\n",
       "    }\n",
       "\n",
       "    .dataframe tbody tr th {\n",
       "        vertical-align: top;\n",
       "    }\n",
       "\n",
       "    .dataframe thead th {\n",
       "        text-align: right;\n",
       "    }\n",
       "</style>\n",
       "<table border=\"1\" class=\"dataframe\">\n",
       "  <thead>\n",
       "    <tr style=\"text-align: right;\">\n",
       "      <th></th>\n",
       "      <th>number</th>\n",
       "    </tr>\n",
       "  </thead>\n",
       "  <tbody>\n",
       "    <tr>\n",
       "      <th>Full-Stack Web Developer</th>\n",
       "      <td>4167</td>\n",
       "    </tr>\n",
       "    <tr>\n",
       "      <th>Front-End Web Developer</th>\n",
       "      <td>3506</td>\n",
       "    </tr>\n",
       "    <tr>\n",
       "      <th>Back-End Web Developer</th>\n",
       "      <td>2742</td>\n",
       "    </tr>\n",
       "    <tr>\n",
       "      <th>Mobile Developer</th>\n",
       "      <td>2283</td>\n",
       "    </tr>\n",
       "    <tr>\n",
       "      <th>Data Scientist</th>\n",
       "      <td>1630</td>\n",
       "    </tr>\n",
       "    <tr>\n",
       "      <th>Game Developer</th>\n",
       "      <td>1610</td>\n",
       "    </tr>\n",
       "    <tr>\n",
       "      <th>User Experience Designer</th>\n",
       "      <td>1455</td>\n",
       "    </tr>\n",
       "    <tr>\n",
       "      <th>Information Security</th>\n",
       "      <td>1311</td>\n",
       "    </tr>\n",
       "    <tr>\n",
       "      <th>Data Engineer</th>\n",
       "      <td>1236</td>\n",
       "    </tr>\n",
       "    <tr>\n",
       "      <th>DevOps / SysAdmin</th>\n",
       "      <td>918</td>\n",
       "    </tr>\n",
       "    <tr>\n",
       "      <th>Product Manager</th>\n",
       "      <td>809</td>\n",
       "    </tr>\n",
       "    <tr>\n",
       "      <th>Quality Assurance Engineer</th>\n",
       "      <td>488</td>\n",
       "    </tr>\n",
       "    <tr>\n",
       "      <th>Software Engineer</th>\n",
       "      <td>10</td>\n",
       "    </tr>\n",
       "    <tr>\n",
       "      <th>Software Developer</th>\n",
       "      <td>6</td>\n",
       "    </tr>\n",
       "    <tr>\n",
       "      <th>Software engineer</th>\n",
       "      <td>4</td>\n",
       "    </tr>\n",
       "    <tr>\n",
       "      <th>Artificial Intelligence</th>\n",
       "      <td>4</td>\n",
       "    </tr>\n",
       "    <tr>\n",
       "      <th>Desktop Application Developer</th>\n",
       "      <td>3</td>\n",
       "    </tr>\n",
       "    <tr>\n",
       "      <th>Machine Learning Engineer</th>\n",
       "      <td>3</td>\n",
       "    </tr>\n",
       "    <tr>\n",
       "      <th>data analyst</th>\n",
       "      <td>2</td>\n",
       "    </tr>\n",
       "    <tr>\n",
       "      <th>Business Analyst</th>\n",
       "      <td>2</td>\n",
       "    </tr>\n",
       "    <tr>\n",
       "      <th>Java developer</th>\n",
       "      <td>2</td>\n",
       "    </tr>\n",
       "    <tr>\n",
       "      <th>Project Manager</th>\n",
       "      <td>2</td>\n",
       "    </tr>\n",
       "    <tr>\n",
       "      <th>Bioinformatics</th>\n",
       "      <td>2</td>\n",
       "    </tr>\n",
       "    <tr>\n",
       "      <th>Web Designer</th>\n",
       "      <td>2</td>\n",
       "    </tr>\n",
       "    <tr>\n",
       "      <th>Not sure</th>\n",
       "      <td>2</td>\n",
       "    </tr>\n",
       "    <tr>\n",
       "      <th>Machine Learning</th>\n",
       "      <td>2</td>\n",
       "    </tr>\n",
       "    <tr>\n",
       "      <th>Programmer</th>\n",
       "      <td>2</td>\n",
       "    </tr>\n",
       "    <tr>\n",
       "      <th>Product Designer</th>\n",
       "      <td>2</td>\n",
       "    </tr>\n",
       "    <tr>\n",
       "      <th>programmer</th>\n",
       "      <td>2</td>\n",
       "    </tr>\n",
       "    <tr>\n",
       "      <th>undecided</th>\n",
       "      <td>2</td>\n",
       "    </tr>\n",
       "    <tr>\n",
       "      <th>...</th>\n",
       "      <td>...</td>\n",
       "    </tr>\n",
       "    <tr>\n",
       "      <th>Robotics Process Automation Specialist</th>\n",
       "      <td>1</td>\n",
       "    </tr>\n",
       "    <tr>\n",
       "      <th>Data visualisation</th>\n",
       "      <td>1</td>\n",
       "    </tr>\n",
       "    <tr>\n",
       "      <th>Desktop applications developer</th>\n",
       "      <td>1</td>\n",
       "    </tr>\n",
       "    <tr>\n",
       "      <th>All - whatever is required to develop tools to revolutionize the mechanical engineering process</th>\n",
       "      <td>1</td>\n",
       "    </tr>\n",
       "    <tr>\n",
       "      <th>Digital Humanitites</th>\n",
       "      <td>1</td>\n",
       "    </tr>\n",
       "    <tr>\n",
       "      <th>Software Development</th>\n",
       "      <td>1</td>\n",
       "    </tr>\n",
       "    <tr>\n",
       "      <th>Programming</th>\n",
       "      <td>1</td>\n",
       "    </tr>\n",
       "    <tr>\n",
       "      <th>Document Controller</th>\n",
       "      <td>1</td>\n",
       "    </tr>\n",
       "    <tr>\n",
       "      <th>Technology-Business Liaison</th>\n",
       "      <td>1</td>\n",
       "    </tr>\n",
       "    <tr>\n",
       "      <th>Journalist/Graphic Designer/Marketing</th>\n",
       "      <td>1</td>\n",
       "    </tr>\n",
       "    <tr>\n",
       "      <th>Software developer</th>\n",
       "      <td>1</td>\n",
       "    </tr>\n",
       "    <tr>\n",
       "      <th>Computer Architect</th>\n",
       "      <td>1</td>\n",
       "    </tr>\n",
       "    <tr>\n",
       "      <th>Networking</th>\n",
       "      <td>1</td>\n",
       "    </tr>\n",
       "    <tr>\n",
       "      <th>AI and Machine Learning</th>\n",
       "      <td>1</td>\n",
       "    </tr>\n",
       "    <tr>\n",
       "      <th>computer engineer</th>\n",
       "      <td>1</td>\n",
       "    </tr>\n",
       "    <tr>\n",
       "      <th>Systems Programming</th>\n",
       "      <td>1</td>\n",
       "    </tr>\n",
       "    <tr>\n",
       "      <th>Software Engineer (Computer Science Based)</th>\n",
       "      <td>1</td>\n",
       "    </tr>\n",
       "    <tr>\n",
       "      <th>Technology Management</th>\n",
       "      <td>1</td>\n",
       "    </tr>\n",
       "    <tr>\n",
       "      <th>full-stack developer</th>\n",
       "      <td>1</td>\n",
       "    </tr>\n",
       "    <tr>\n",
       "      <th>BA or developer</th>\n",
       "      <td>1</td>\n",
       "    </tr>\n",
       "    <tr>\n",
       "      <th>Tech art</th>\n",
       "      <td>1</td>\n",
       "    </tr>\n",
       "    <tr>\n",
       "      <th>User Interface Design</th>\n",
       "      <td>1</td>\n",
       "    </tr>\n",
       "    <tr>\n",
       "      <th>System Engineer</th>\n",
       "      <td>1</td>\n",
       "    </tr>\n",
       "    <tr>\n",
       "      <th>Network</th>\n",
       "      <td>1</td>\n",
       "    </tr>\n",
       "    <tr>\n",
       "      <th>Analyst</th>\n",
       "      <td>1</td>\n",
       "    </tr>\n",
       "    <tr>\n",
       "      <th>Pharmacy tech</th>\n",
       "      <td>1</td>\n",
       "    </tr>\n",
       "    <tr>\n",
       "      <th>data journalist / data visualist</th>\n",
       "      <td>1</td>\n",
       "    </tr>\n",
       "    <tr>\n",
       "      <th>Desings</th>\n",
       "      <td>1</td>\n",
       "    </tr>\n",
       "    <tr>\n",
       "      <th>Infrastructure Architect</th>\n",
       "      <td>1</td>\n",
       "    </tr>\n",
       "    <tr>\n",
       "      <th>IT specialist</th>\n",
       "      <td>1</td>\n",
       "    </tr>\n",
       "  </tbody>\n",
       "</table>\n",
       "<p>208 rows × 1 columns</p>\n",
       "</div>"
      ],
      "text/plain": [
       "                                                    number\n",
       "Full-Stack Web Developer                              4167\n",
       "Front-End Web Developer                               3506\n",
       "Back-End Web Developer                                2742\n",
       "Mobile Developer                                      2283\n",
       "Data Scientist                                        1630\n",
       "Game Developer                                        1610\n",
       "User Experience Designer                              1455\n",
       "Information Security                                  1311\n",
       "Data Engineer                                         1236\n",
       "DevOps / SysAdmin                                      918\n",
       "Product Manager                                        809\n",
       "Quality Assurance Engineer                             488\n",
       "Software Engineer                                       10\n",
       "Software Developer                                       6\n",
       "Software engineer                                        4\n",
       "Artificial Intelligence                                  4\n",
       "Desktop Application Developer                            3\n",
       "Machine Learning Engineer                                3\n",
       "data analyst                                             2\n",
       "Business Analyst                                         2\n",
       "Java developer                                           2\n",
       "Project Manager                                          2\n",
       "Bioinformatics                                           2\n",
       "Web Designer                                             2\n",
       "Not sure                                                 2\n",
       "Machine Learning                                         2\n",
       "Programmer                                               2\n",
       "Product Designer                                         2\n",
       "programmer                                               2\n",
       "undecided                                                2\n",
       "...                                                    ...\n",
       "Robotics Process Automation Specialist                   1\n",
       "Data visualisation                                       1\n",
       "Desktop applications developer                           1\n",
       "All - whatever is required to develop tools to ...       1\n",
       "Digital Humanitites                                      1\n",
       "Software Development                                     1\n",
       "Programming                                              1\n",
       "Document Controller                                      1\n",
       "Technology-Business Liaison                              1\n",
       "Journalist/Graphic Designer/Marketing                    1\n",
       "Software developer                                       1\n",
       "Computer Architect                                       1\n",
       "Networking                                               1\n",
       "AI and Machine Learning                                  1\n",
       "computer engineer                                        1\n",
       "Systems Programming                                      1\n",
       "Software Engineer (Computer Science Based)               1\n",
       "Technology Management                                    1\n",
       "full-stack developer                                     1\n",
       "BA or developer                                          1\n",
       "Tech art                                                 1\n",
       "User Interface Design                                    1\n",
       "System Engineer                                          1\n",
       "Network                                                  1\n",
       "Analyst                                                  1\n",
       "Pharmacy tech                                            1\n",
       "data journalist / data visualist                         1\n",
       "Desings                                                  1\n",
       "Infrastructure Architect                                 1\n",
       "IT specialist                                            1\n",
       "\n",
       "[208 rows x 1 columns]"
      ]
     },
     "execution_count": 45,
     "metadata": {},
     "output_type": "execute_result"
    }
   ],
   "source": [
    "job_interest_rest_df = pd.DataFrame.from_dict(job_interest_rest, orient = 'index')\n",
    "job_interest_rest_df.columns = ['number']\n",
    "job_interest_rest_df.sort_values(by=['number'],ascending=False,inplace=True)\n",
    "job_interest_rest_df"
   ]
  },
  {
   "cell_type": "markdown",
   "metadata": {},
   "source": [
    "There are less rows in the Philippines than in the rest of the world. To compare, I need to make it the same. "
   ]
  },
  {
   "cell_type": "code",
   "execution_count": 55,
   "metadata": {},
   "outputs": [],
   "source": [
    "rest_data = job_interest_rest_df.loc[job_interest_phil_df.index] * 100 / rest.shape[0]"
   ]
  },
  {
   "cell_type": "code",
   "execution_count": 54,
   "metadata": {},
   "outputs": [],
   "source": [
    "phil_data = job_interest_phil_df * 100 / philippines.shape[0]"
   ]
  },
  {
   "cell_type": "code",
   "execution_count": 86,
   "metadata": {},
   "outputs": [
    {
     "data": {
      "image/png": "[encoded data removed]",
      "text/plain": [
       "<Figure size 720x432 with 1 Axes>"
      ]
     },
     "metadata": {},
     "output_type": "display_data"
    }
   ],
   "source": [
    "fig, ax= plt.subplots()\n",
    "fig.set_size_inches(10, 6)\n",
    "\n",
    "height = phil_data['number']\n",
    "bars = phil_data.index\n",
    "y_pos = np.arange(len(bars))\n",
    " \n",
    "# Create horizontal bars\n",
    "plt.barh(y_pos, height, color = 'blue')\n",
    " \n",
    "# Create names on the y-axis\n",
    "plt.yticks(y_pos, bars)\n",
    " \n",
    "# Show graphic\n",
    "plt.title('% job preference of Filipino Respondents')\n",
    "plt.xlabel('%')\n",
    "plt.ylabel('Job Titles')\n",
    "#plt.legend()\n",
    "plt.tight_layout()\n",
    "plt.savefig('job_preference_phil.png')\n",
    "plt.show()\n"
   ]
  },
  {
   "cell_type": "code",
   "execution_count": 56,
   "metadata": {},
   "outputs": [
    {
     "data": {
      "text/html": [
       "<div>\n",
       "<style scoped>\n",
       "    .dataframe tbody tr th:only-of-type {\n",
       "        vertical-align: middle;\n",
       "    }\n",
       "\n",
       "    .dataframe tbody tr th {\n",
       "        vertical-align: top;\n",
       "    }\n",
       "\n",
       "    .dataframe thead th {\n",
       "        text-align: right;\n",
       "    }\n",
       "</style>\n",
       "<table border=\"1\" class=\"dataframe\">\n",
       "  <thead>\n",
       "    <tr style=\"text-align: right;\">\n",
       "      <th></th>\n",
       "      <th>number</th>\n",
       "    </tr>\n",
       "  </thead>\n",
       "  <tbody>\n",
       "    <tr>\n",
       "      <th>Full-Stack Web Developer</th>\n",
       "      <td>23.098670</td>\n",
       "    </tr>\n",
       "    <tr>\n",
       "      <th>Back-End Web Developer</th>\n",
       "      <td>15.199557</td>\n",
       "    </tr>\n",
       "    <tr>\n",
       "      <th>Front-End Web Developer</th>\n",
       "      <td>19.434590</td>\n",
       "    </tr>\n",
       "    <tr>\n",
       "      <th>Mobile Developer</th>\n",
       "      <td>12.655211</td>\n",
       "    </tr>\n",
       "    <tr>\n",
       "      <th>Game Developer</th>\n",
       "      <td>8.924612</td>\n",
       "    </tr>\n",
       "    <tr>\n",
       "      <th>Information Security</th>\n",
       "      <td>7.267184</td>\n",
       "    </tr>\n",
       "    <tr>\n",
       "      <th>User Experience Designer</th>\n",
       "      <td>8.065410</td>\n",
       "    </tr>\n",
       "    <tr>\n",
       "      <th>Data Scientist</th>\n",
       "      <td>9.035477</td>\n",
       "    </tr>\n",
       "    <tr>\n",
       "      <th>Data Engineer</th>\n",
       "      <td>6.851441</td>\n",
       "    </tr>\n",
       "    <tr>\n",
       "      <th>Quality Assurance Engineer</th>\n",
       "      <td>2.705100</td>\n",
       "    </tr>\n",
       "    <tr>\n",
       "      <th>DevOps / SysAdmin</th>\n",
       "      <td>5.088692</td>\n",
       "    </tr>\n",
       "    <tr>\n",
       "      <th>Product Manager</th>\n",
       "      <td>4.484479</td>\n",
       "    </tr>\n",
       "    <tr>\n",
       "      <th>Software Engineer</th>\n",
       "      <td>0.055432</td>\n",
       "    </tr>\n",
       "  </tbody>\n",
       "</table>\n",
       "</div>"
      ],
      "text/plain": [
       "                               number\n",
       "Full-Stack Web Developer    23.098670\n",
       "Back-End Web Developer      15.199557\n",
       "Front-End Web Developer     19.434590\n",
       "Mobile Developer            12.655211\n",
       "Game Developer               8.924612\n",
       "Information Security         7.267184\n",
       "User Experience Designer     8.065410\n",
       "Data Scientist               9.035477\n",
       "Data Engineer                6.851441\n",
       "Quality Assurance Engineer   2.705100\n",
       "DevOps / SysAdmin            5.088692\n",
       "Product Manager              4.484479\n",
       "Software Engineer            0.055432"
      ]
     },
     "execution_count": 56,
     "metadata": {},
     "output_type": "execute_result"
    }
   ],
   "source": [
    "rest_data"
   ]
  },
  {
   "cell_type": "code",
   "execution_count": 64,
   "metadata": {},
   "outputs": [
    {
     "data": {
      "text/plain": [
       "['Full-Stack Web Developer',\n",
       " 'Back-End Web Developer',\n",
       " 'Front-End Web Developer',\n",
       " 'Mobile Developer',\n",
       " 'Game Developer',\n",
       " 'Information Security',\n",
       " 'User Experience Designer',\n",
       " 'Data Scientist',\n",
       " 'Data Engineer',\n",
       " 'Quality Assurance Engineer',\n",
       " 'DevOps / SysAdmin',\n",
       " 'Product Manager',\n",
       " 'Software Engineer']"
      ]
     },
     "execution_count": 64,
     "metadata": {},
     "output_type": "execute_result"
    }
   ],
   "source": [
    "list(phil_data.index)"
   ]
  },
  {
   "cell_type": "code",
   "execution_count": 76,
   "metadata": {},
   "outputs": [
    {
     "data": {
      "image/png": "[encoded data removed]",
      "text/plain": [
       "<Figure size 720x432 with 1 Axes>"
      ]
     },
     "metadata": {},
     "output_type": "display_data"
    }
   ],
   "source": [
    "fig, ax= plt.subplots()\n",
    "fig.set_size_inches(10, 6)\n",
    "\n",
    "barWidth = 0.25\n",
    " \n",
    "# set height of bar\n",
    "bars1 = rest_data['number']\n",
    "bars2 = phil_data['number']\n",
    "\n",
    " \n",
    "# Set position of bar on X axis\n",
    "r1 = np.arange(len(bars1))\n",
    "r2 = [x + barWidth for x in r1]\n",
    "\n",
    " \n",
    "# Make the plot\n",
    "plt.bar(r1, bars1, color='yellow', width=barWidth, edgecolor='white', label='Rest of the World')\n",
    "plt.bar(r2, bars2, color='blue', width=barWidth, edgecolor='white', label='Philippines')\n",
    "\n",
    " \n",
    "# Add xticks on the middle of the group bars\n",
    "plt.xlabel('group', fontweight='bold')\n",
    "plt.xticks([r + barWidth for r in range(len(bars1))], list(phil_data.index), rotation = 90)\n",
    " \n",
    "# Create legend & Show graphic\n",
    "plt.title('% job preference of Philippines vs the rest of the world')\n",
    "plt.legend()\n",
    "plt.tight_layout()\n",
    "plt.savefig('job_preference.png')\n",
    "plt.show()\n"
   ]
  },
  {
   "cell_type": "code",
   "execution_count": null,
   "metadata": {},
   "outputs": [],
   "source": [
    "sns.set_style('ticks')\n",
    "fig, ax = plt.subplots()\n",
    "fig.set_size_inches(11.7, 8.27)\n",
    "ax = sns.barplot(x = job_interest_phil_df.index, y= 'number' , data=job_interest_phil_df)\n",
    "plt.xticks(rotation = 90, fontsize=12)\n",
    "plt.yticks(fontsize=12)\n",
    "plt.title('Future Job Interest Philippines', fontsize=18)\n",
    "plt.tight_layout()\n",
    "plt.savefig('job_interest_phil.png')\n",
    "plt.show()"
   ]
  },
  {
   "cell_type": "code",
   "execution_count": null,
   "metadata": {},
   "outputs": [],
   "source": [
    "job_roles = job_interest_phil_df['number'] *100 / philippines.shape[0]\n",
    "job_roles.sort_values(ascending=False)"
   ]
  },
  {
   "cell_type": "markdown",
   "metadata": {},
   "source": [
    "## Additional Analysis\n",
    "\n",
    "The data from the survey shows that majority of online learners in the country wants a role in web and mobile development. Interestingly, only 25% of the respondent wants a career in data science. "
   ]
  },
  {
   "cell_type": "markdown",
   "metadata": {},
   "source": [
    "## Conclusion\n",
    "\n",
    "The United States still leads the world in IT. The number of people taking online courses, and the average amount they spend each month indicates a passion and dedication for learning, that only India can rival at this point. A further analysis of the data shows that the Philippines lags the world in the raw number of people that enrolls in online courses.\n",
    "\n",
    "This exercise reinforces basic skills in data manipulation, statistical analysis, and visualization.\n"
   ]
  }
 ],
 "metadata": {
  "kernelspec": {
   "display_name": "Python 3",
   "language": "python",
   "name": "python3"
  },
  "language_info": {
   "codemirror_mode": {
    "name": "ipython",
    "version": 3
   },
   "file_extension": ".py",
   "mimetype": "text/x-python",
   "name": "python",
   "nbconvert_exporter": "python",
   "pygments_lexer": "ipython3",
   "version": "3.6.5"
  }
 },
 "nbformat": 4,
 "nbformat_minor": 2
}
